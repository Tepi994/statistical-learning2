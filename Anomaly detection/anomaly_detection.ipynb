{
 "cells": [
  {
   "cell_type": "code",
   "execution_count": 175,
   "metadata": {},
   "outputs": [],
   "source": [
    "import numpy as np \n",
    "import matplotlib.pyplot as plt\n",
    "import seaborn as sns\n",
    "import scipy.stats as st\n",
    "import pandas as pd"
   ]
  },
  {
   "cell_type": "markdown",
   "metadata": {},
   "source": [
    "## Loading training and test dataset"
   ]
  },
  {
   "cell_type": "code",
   "execution_count": 195,
   "metadata": {},
   "outputs": [],
   "source": [
    "df = pd.read_csv('data.csv')\n",
    "df_test = pd.read_csv('data_test.csv')\n",
    "#df.var()\n",
    "#df[df.columns[0]]\n",
    "#df.columns[0]\n",
    "\n"
   ]
  },
  {
   "cell_type": "markdown",
   "metadata": {},
   "source": [
    "**At the moment of loading this data from the google sheet file, not all ages were present. In order to control for these missing values, a mean imputation was performed on the google sheet. The resultant data and  mean value are presented below:**"
   ]
  },
  {
   "cell_type": "code",
   "execution_count": 196,
   "metadata": {},
   "outputs": [
    {
     "data": {
      "text/plain": [
       "26.525"
      ]
     },
     "execution_count": 196,
     "metadata": {},
     "output_type": "execute_result"
    }
   ],
   "source": [
    "df['Edad'].mean()"
   ]
  },
  {
   "cell_type": "code",
   "execution_count": 197,
   "metadata": {},
   "outputs": [
    {
     "data": {
      "text/html": [
       "<div>\n",
       "<style scoped>\n",
       "    .dataframe tbody tr th:only-of-type {\n",
       "        vertical-align: middle;\n",
       "    }\n",
       "\n",
       "    .dataframe tbody tr th {\n",
       "        vertical-align: top;\n",
       "    }\n",
       "\n",
       "    .dataframe thead th {\n",
       "        text-align: right;\n",
       "    }\n",
       "</style>\n",
       "<table border=\"1\" class=\"dataframe\">\n",
       "  <thead>\n",
       "    <tr style=\"text-align: right;\">\n",
       "      <th></th>\n",
       "      <th>Estatura</th>\n",
       "      <th>Edad</th>\n",
       "    </tr>\n",
       "  </thead>\n",
       "  <tbody>\n",
       "    <tr>\n",
       "      <th>0</th>\n",
       "      <td>1.77</td>\n",
       "      <td>26.5</td>\n",
       "    </tr>\n",
       "    <tr>\n",
       "      <th>1</th>\n",
       "      <td>1.74</td>\n",
       "      <td>26.5</td>\n",
       "    </tr>\n",
       "    <tr>\n",
       "      <th>2</th>\n",
       "      <td>1.72</td>\n",
       "      <td>24.0</td>\n",
       "    </tr>\n",
       "    <tr>\n",
       "      <th>3</th>\n",
       "      <td>1.78</td>\n",
       "      <td>26.5</td>\n",
       "    </tr>\n",
       "    <tr>\n",
       "      <th>4</th>\n",
       "      <td>1.65</td>\n",
       "      <td>32.0</td>\n",
       "    </tr>\n",
       "    <tr>\n",
       "      <th>5</th>\n",
       "      <td>1.66</td>\n",
       "      <td>26.5</td>\n",
       "    </tr>\n",
       "    <tr>\n",
       "      <th>6</th>\n",
       "      <td>1.64</td>\n",
       "      <td>26.5</td>\n",
       "    </tr>\n",
       "    <tr>\n",
       "      <th>7</th>\n",
       "      <td>1.85</td>\n",
       "      <td>26.5</td>\n",
       "    </tr>\n",
       "    <tr>\n",
       "      <th>8</th>\n",
       "      <td>1.85</td>\n",
       "      <td>26.0</td>\n",
       "    </tr>\n",
       "    <tr>\n",
       "      <th>9</th>\n",
       "      <td>1.75</td>\n",
       "      <td>26.5</td>\n",
       "    </tr>\n",
       "    <tr>\n",
       "      <th>10</th>\n",
       "      <td>1.73</td>\n",
       "      <td>23.0</td>\n",
       "    </tr>\n",
       "    <tr>\n",
       "      <th>11</th>\n",
       "      <td>1.79</td>\n",
       "      <td>26.5</td>\n",
       "    </tr>\n",
       "    <tr>\n",
       "      <th>12</th>\n",
       "      <td>1.82</td>\n",
       "      <td>24.0</td>\n",
       "    </tr>\n",
       "    <tr>\n",
       "      <th>13</th>\n",
       "      <td>1.65</td>\n",
       "      <td>25.0</td>\n",
       "    </tr>\n",
       "    <tr>\n",
       "      <th>14</th>\n",
       "      <td>1.79</td>\n",
       "      <td>26.5</td>\n",
       "    </tr>\n",
       "    <tr>\n",
       "      <th>15</th>\n",
       "      <td>1.72</td>\n",
       "      <td>34.0</td>\n",
       "    </tr>\n",
       "    <tr>\n",
       "      <th>16</th>\n",
       "      <td>1.70</td>\n",
       "      <td>26.0</td>\n",
       "    </tr>\n",
       "    <tr>\n",
       "      <th>17</th>\n",
       "      <td>1.57</td>\n",
       "      <td>25.0</td>\n",
       "    </tr>\n",
       "    <tr>\n",
       "      <th>18</th>\n",
       "      <td>1.66</td>\n",
       "      <td>26.0</td>\n",
       "    </tr>\n",
       "    <tr>\n",
       "      <th>19</th>\n",
       "      <td>1.75</td>\n",
       "      <td>27.0</td>\n",
       "    </tr>\n",
       "  </tbody>\n",
       "</table>\n",
       "</div>"
      ],
      "text/plain": [
       "    Estatura  Edad\n",
       "0       1.77  26.5\n",
       "1       1.74  26.5\n",
       "2       1.72  24.0\n",
       "3       1.78  26.5\n",
       "4       1.65  32.0\n",
       "5       1.66  26.5\n",
       "6       1.64  26.5\n",
       "7       1.85  26.5\n",
       "8       1.85  26.0\n",
       "9       1.75  26.5\n",
       "10      1.73  23.0\n",
       "11      1.79  26.5\n",
       "12      1.82  24.0\n",
       "13      1.65  25.0\n",
       "14      1.79  26.5\n",
       "15      1.72  34.0\n",
       "16      1.70  26.0\n",
       "17      1.57  25.0\n",
       "18      1.66  26.0\n",
       "19      1.75  27.0"
      ]
     },
     "execution_count": 197,
     "metadata": {},
     "output_type": "execute_result"
    }
   ],
   "source": [
    "df"
   ]
  },
  {
   "cell_type": "markdown",
   "metadata": {},
   "source": [
    "## Defining our anomaly detection model \n",
    "\n",
    "Our model will have as input a training set, a test set, and an epsilon value that will define the threshold of whether the characteristics of an individual are an anomaly. \n",
    "\n",
    "First, we are assuming a normal distribution for both age and height, and both variables present no dependency. We calculate sigma an mu for both of these distributions.\n",
    "Afterwards, we normalize our training data using the previously calculated mu and sigma.\n",
    "We perform this same normalization to the test data. Is important to notice that we are using the distribution parameters of the training data. We calculate the p value for each observation of the test data.\n",
    "\n",
    "Finally, if the multiplication of both p values of the test data is smaller than epsilon, we classify the individual as an anomaly.\n",
    "\n",
    "\n",
    "\n"
   ]
  },
  {
   "cell_type": "code",
   "execution_count": 200,
   "metadata": {},
   "outputs": [],
   "source": [
    "def anomaly_detector(x_train,x_test, epsilon):\n",
    "    ##training the model \n",
    "    mean = pd.DataFrame(x_train.mean(), columns=[\"mean\"])\n",
    "    variance = pd.DataFrame(x_train.var(),columns=[\"variance\"])\n",
    "    parameters = pd.DataFrame.join(mean,variance)\n",
    "    for i in range(0, len(parameters.columns)):\n",
    "        x_train[str(x_train.columns[(i)])+\"_z_value\"] = (x_train[x_train.columns[i]] - parameters['mean'][parameters.index == x_train.columns[i]][0])/np.sqrt(parameters['variance'][parameters.index == x_train.columns[i]][0])\n",
    "        x_train[str(x_train.columns[(i)])+\"_p_value\"] = st.norm.pdf(x_train[str(x_train.columns[(i)])+\"_z_value\"], 0, 1)\n",
    "        #1- abs(st.norm.cdf(x_train[str(x_train.columns[(i)])+\"_z_value\"]))\n",
    "    \n",
    "    x_train['anomaly'] = np.where(x_train.select(lambda col: col.endswith(\"_p_value\"), axis=1).prod(axis =1)<epsilon,1,0)\n",
    "    \n",
    "    ###applying the model to test data \n",
    "    \n",
    "    #mean_test = pd.DataFrame(x_test.mean(), columns=[\"mean\"])\n",
    "    #variance_test = pd.DataFrame(x_test.var(),columns=[\"variance\"])\n",
    "    parameters_test = pd.DataFrame.join(mean,variance)\n",
    "    for i in range(0, len(parameters_test.columns)):\n",
    "        x_test[str(x_test.columns[(i)])+\"_z_value\"] = (x_test[x_test.columns[i]] - parameters['mean'][parameters.index == x_train.columns[i]][0])/np.sqrt(parameters['variance'][parameters.index == x_train.columns[i]][0])\n",
    "        x_test[str(x_test.columns[(i)])+\"_p_value\"] = st.norm.pdf(x_test[str(x_test.columns[(i)])+\"_z_value\"], 0, 1)\n",
    "    \n",
    "    \n",
    "    \n",
    "    x_test['anomaly'] = np.where(x_test.select(lambda col: col.endswith(\"_p_value\"), axis=1).prod(axis =1)<epsilon,1,0)\n",
    "    return x_test\n",
    "    \n",
    "    "
   ]
  },
  {
   "cell_type": "markdown",
   "metadata": {},
   "source": [
    "We are using a threshold of 0.0025. This was decided because we are assuming that the individual characteristics have to be, on average, near 0.05% of the pdf of both characteristics in order to be considered an anomaly."
   ]
  },
  {
   "cell_type": "code",
   "execution_count": 204,
   "metadata": {},
   "outputs": [
    {
     "name": "stderr",
     "output_type": "stream",
     "text": [
      "C:\\Users\\jctep\\Anaconda3\\lib\\site-packages\\ipykernel_launcher.py:11: FutureWarning: 'select' is deprecated and will be removed in a future release. You can use .loc[labels.map(crit)] as a replacement\n",
      "  # This is added back by InteractiveShellApp.init_path()\n",
      "C:\\Users\\jctep\\Anaconda3\\lib\\site-packages\\ipykernel_launcher.py:23: FutureWarning: 'select' is deprecated and will be removed in a future release. You can use .loc[labels.map(crit)] as a replacement\n"
     ]
    },
    {
     "data": {
      "text/html": [
       "<div>\n",
       "<style scoped>\n",
       "    .dataframe tbody tr th:only-of-type {\n",
       "        vertical-align: middle;\n",
       "    }\n",
       "\n",
       "    .dataframe tbody tr th {\n",
       "        vertical-align: top;\n",
       "    }\n",
       "\n",
       "    .dataframe thead th {\n",
       "        text-align: right;\n",
       "    }\n",
       "</style>\n",
       "<table border=\"1\" class=\"dataframe\">\n",
       "  <thead>\n",
       "    <tr style=\"text-align: right;\">\n",
       "      <th></th>\n",
       "      <th>Estatura</th>\n",
       "      <th>Edad</th>\n",
       "      <th>Estatura_z_value</th>\n",
       "      <th>Estatura_p_value</th>\n",
       "      <th>Edad_z_value</th>\n",
       "      <th>Edad_p_value</th>\n",
       "      <th>anomaly</th>\n",
       "    </tr>\n",
       "  </thead>\n",
       "  <tbody>\n",
       "    <tr>\n",
       "      <th>0</th>\n",
       "      <td>0.25</td>\n",
       "      <td>2.4</td>\n",
       "      <td>-19.761830</td>\n",
       "      <td>6.286567e-86</td>\n",
       "      <td>-9.732825</td>\n",
       "      <td>1.074015e-21</td>\n",
       "      <td>1</td>\n",
       "    </tr>\n",
       "    <tr>\n",
       "      <th>1</th>\n",
       "      <td>175.10</td>\n",
       "      <td>2.5</td>\n",
       "      <td>2315.727181</td>\n",
       "      <td>0.000000e+00</td>\n",
       "      <td>-9.692482</td>\n",
       "      <td>1.589222e-21</td>\n",
       "      <td>1</td>\n",
       "    </tr>\n",
       "    <tr>\n",
       "      <th>2</th>\n",
       "      <td>0.15</td>\n",
       "      <td>250.0</td>\n",
       "      <td>-21.097540</td>\n",
       "      <td>8.857820e-98</td>\n",
       "      <td>90.157228</td>\n",
       "      <td>0.000000e+00</td>\n",
       "      <td>1</td>\n",
       "    </tr>\n",
       "    <tr>\n",
       "      <th>3</th>\n",
       "      <td>150.00</td>\n",
       "      <td>14.0</td>\n",
       "      <td>1980.463960</td>\n",
       "      <td>0.000000e+00</td>\n",
       "      <td>-5.053000</td>\n",
       "      <td>1.139016e-06</td>\n",
       "      <td>1</td>\n",
       "    </tr>\n",
       "  </tbody>\n",
       "</table>\n",
       "</div>"
      ],
      "text/plain": [
       "   Estatura   Edad  Estatura_z_value  Estatura_p_value  Edad_z_value  \\\n",
       "0      0.25    2.4        -19.761830      6.286567e-86     -9.732825   \n",
       "1    175.10    2.5       2315.727181      0.000000e+00     -9.692482   \n",
       "2      0.15  250.0        -21.097540      8.857820e-98     90.157228   \n",
       "3    150.00   14.0       1980.463960      0.000000e+00     -5.053000   \n",
       "\n",
       "   Edad_p_value  anomaly  \n",
       "0  1.074015e-21        1  \n",
       "1  1.589222e-21        1  \n",
       "2  0.000000e+00        1  \n",
       "3  1.139016e-06        1  "
      ]
     },
     "execution_count": 204,
     "metadata": {},
     "output_type": "execute_result"
    }
   ],
   "source": [
    "test = anomaly_detector(df,df_test, 0.05*0.05)\n",
    "test"
   ]
  },
  {
   "cell_type": "markdown",
   "metadata": {},
   "source": [
    " As we can appreciate, all the anomalies have been classified as an anomaly. \n",
    " "
   ]
  },
  {
   "cell_type": "markdown",
   "metadata": {},
   "source": [
    "## Is there any anomaly in our training dataset?"
   ]
  },
  {
   "cell_type": "code",
   "execution_count": 207,
   "metadata": {},
   "outputs": [
    {
     "name": "stderr",
     "output_type": "stream",
     "text": [
      "C:\\Users\\jctep\\Anaconda3\\lib\\site-packages\\ipykernel_launcher.py:11: FutureWarning: 'select' is deprecated and will be removed in a future release. You can use .loc[labels.map(crit)] as a replacement\n",
      "  # This is added back by InteractiveShellApp.init_path()\n",
      "C:\\Users\\jctep\\Anaconda3\\lib\\site-packages\\ipykernel_launcher.py:23: FutureWarning: 'select' is deprecated and will be removed in a future release. You can use .loc[labels.map(crit)] as a replacement\n"
     ]
    },
    {
     "data": {
      "text/html": [
       "<div>\n",
       "<style scoped>\n",
       "    .dataframe tbody tr th:only-of-type {\n",
       "        vertical-align: middle;\n",
       "    }\n",
       "\n",
       "    .dataframe tbody tr th {\n",
       "        vertical-align: top;\n",
       "    }\n",
       "\n",
       "    .dataframe thead th {\n",
       "        text-align: right;\n",
       "    }\n",
       "</style>\n",
       "<table border=\"1\" class=\"dataframe\">\n",
       "  <thead>\n",
       "    <tr style=\"text-align: right;\">\n",
       "      <th></th>\n",
       "      <th>Estatura</th>\n",
       "      <th>Edad</th>\n",
       "      <th>Estatura_z_value</th>\n",
       "      <th>Estatura_p_value</th>\n",
       "      <th>Edad_z_value</th>\n",
       "      <th>Edad_p_value</th>\n",
       "      <th>anomaly</th>\n",
       "    </tr>\n",
       "  </thead>\n",
       "  <tbody>\n",
       "    <tr>\n",
       "      <th>15</th>\n",
       "      <td>1.72</td>\n",
       "      <td>34.0</td>\n",
       "      <td>-0.126892</td>\n",
       "      <td>0.395743</td>\n",
       "      <td>3.015663</td>\n",
       "      <td>0.004228</td>\n",
       "      <td>1</td>\n",
       "    </tr>\n",
       "  </tbody>\n",
       "</table>\n",
       "</div>"
      ],
      "text/plain": [
       "    Estatura  Edad  Estatura_z_value  Estatura_p_value  Edad_z_value  \\\n",
       "15      1.72  34.0         -0.126892          0.395743      3.015663   \n",
       "\n",
       "    Edad_p_value  anomaly  \n",
       "15      0.004228        1  "
      ]
     },
     "execution_count": 207,
     "metadata": {},
     "output_type": "execute_result"
    }
   ],
   "source": [
    "training = anomaly_detector(df,df, 0.05*0.05)\n",
    "training[training['anomaly']==1]"
   ]
  },
  {
   "cell_type": "markdown",
   "metadata": {},
   "source": [
    "As we can see, there is only one anomaly present in our training test, an individual with an age of 34 years and a height of 1.70 meters."
   ]
  },
  {
   "cell_type": "markdown",
   "metadata": {},
   "source": [
    "### Some calculations that where used for this model."
   ]
  },
  {
   "cell_type": "code",
   "execution_count": 18,
   "metadata": {},
   "outputs": [],
   "source": [
    "def normal_dist(x):\n",
    "    #### get mu\n",
    "    mu = np.sum(height, axis=0)/x.shape[0]\n",
    "    ###get variance\n",
    "    variance = np.sum((x - mu)**2)/x.shape[0]\n",
    "    \n",
    "    return mu, variance"
   ]
  },
  {
   "cell_type": "code",
   "execution_count": 35,
   "metadata": {},
   "outputs": [],
   "source": [
    "def z_value(mu,sigma,x):\n",
    "    z_value = (x-mu)/sigma\n",
    "    return(z_value)"
   ]
  },
  {
   "cell_type": "code",
   "execution_count": 37,
   "metadata": {},
   "outputs": [
    {
     "data": {
      "text/plain": [
       "-0.9804779830167228"
      ]
     },
     "execution_count": 37,
     "metadata": {},
     "output_type": "execute_result"
    }
   ],
   "source": [
    "z_value(height_params[0],height_params[1],1.74)"
   ]
  },
  {
   "cell_type": "code",
   "execution_count": 44,
   "metadata": {},
   "outputs": [
    {
     "data": {
      "text/plain": [
       "0.00023114378025179683"
      ]
     },
     "execution_count": 44,
     "metadata": {},
     "output_type": "execute_result"
    }
   ],
   "source": [
    "height_params[0]\n",
    "test = z_value(height_params[0],height_params[1],1.76)\n",
    "1- st.norm.cdf(test)"
   ]
  },
  {
   "cell_type": "code",
   "execution_count": 179,
   "metadata": {},
   "outputs": [
    {
     "data": {
      "text/plain": [
       "0.00013383022576488537"
      ]
     },
     "execution_count": 179,
     "metadata": {},
     "output_type": "execute_result"
    }
   ],
   "source": [
    " st.norm.pdf(4,0,1)"
   ]
  },
  {
   "cell_type": "code",
   "execution_count": 191,
   "metadata": {},
   "outputs": [
    {
     "data": {
      "text/plain": [
       "26.525"
      ]
     },
     "execution_count": 191,
     "metadata": {},
     "output_type": "execute_result"
    }
   ],
   "source": [
    "df['Edad'].mean()"
   ]
  },
  {
   "cell_type": "code",
   "execution_count": null,
   "metadata": {},
   "outputs": [],
   "source": []
  }
 ],
 "metadata": {
  "kernelspec": {
   "display_name": "Python 3",
   "language": "python",
   "name": "python3"
  },
  "language_info": {
   "codemirror_mode": {
    "name": "ipython",
    "version": 3
   },
   "file_extension": ".py",
   "mimetype": "text/x-python",
   "name": "python",
   "nbconvert_exporter": "python",
   "pygments_lexer": "ipython3",
   "version": "3.7.3"
  }
 },
 "nbformat": 4,
 "nbformat_minor": 2
}
