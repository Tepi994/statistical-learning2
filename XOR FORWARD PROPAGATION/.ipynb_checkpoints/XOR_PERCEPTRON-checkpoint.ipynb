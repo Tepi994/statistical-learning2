{
 "cells": [
  {
   "cell_type": "code",
   "execution_count": 2,
   "metadata": {},
   "outputs": [],
   "source": [
    "import pandas as pd\n",
    "import numpy as np"
   ]
  },
  {
   "cell_type": "code",
   "execution_count": 73,
   "metadata": {},
   "outputs": [],
   "source": [
    "X = np.array([1,1,1])\n",
    "W = np.array([[20,-20],[20,-20],[-10,30]])"
   ]
  },
  {
   "cell_type": "code",
   "execution_count": 74,
   "metadata": {},
   "outputs": [],
   "source": [
    "H = np.append(np.matmul(X,W),1)\n",
    "W_2 = np.transpose(np.array([20,20,-30]))"
   ]
  },
  {
   "cell_type": "code",
   "execution_count": 75,
   "metadata": {},
   "outputs": [],
   "source": [
    "def sigmoid(h):\n",
    "    return 1/(1+np.exp(-h))"
   ]
  },
  {
   "cell_type": "code",
   "execution_count": 77,
   "metadata": {},
   "outputs": [
    {
     "data": {
      "text/plain": [
       "array([0.12665659, 0.73105858])"
      ]
     },
     "execution_count": 77,
     "metadata": {},
     "output_type": "execute_result"
    }
   ],
   "source": []
  },
  {
   "cell_type": "code",
   "execution_count": 81,
   "metadata": {},
   "outputs": [],
   "source": [
    "def XOR_perceptron(x1,x2):\n",
    "        X = np.array([x1,x2,1])\n",
    "        print(\"X: \",X)\n",
    "        W = np.array([[20,-20],[20,-20],[-10,30]])\n",
    "        print(\"W: \",W)\n",
    "        W_2 = np.transpose(np.array([20,20,-30]))\n",
    "        print(\"W_2: \",W_2)\n",
    "        \n",
    "        ####hidden layer\n",
    "        H = np.append(np.matmul(X,W),1)\n",
    "        print(\"H: \",H)\n",
    "        H = sigmoid(H)\n",
    "        print(\"H sigmoid: \",H)\n",
    "        Y = np.matmul(H,W_2)\n",
    "        print(\"Y: \",Y)\n",
    "        Y = sigmoid(Y)\n",
    "        print(\"Y sigmoid: \", Y)\n",
    "        ###output\n",
    "        return Y"
   ]
  },
  {
   "cell_type": "code",
   "execution_count": 88,
   "metadata": {},
   "outputs": [
    {
     "name": "stdout",
     "output_type": "stream",
     "text": [
      "X:  [1 1 1]\n",
      "W:  [[ 20 -20]\n",
      " [ 20 -20]\n",
      " [-10  30]]\n",
      "W_2:  [ 20  20 -30]\n",
      "H:  [ 30 -10   1]\n",
      "H sigmoid:  [1.00000000e+00 4.53978687e-05 7.31058579e-01]\n",
      "Y:  -1.930849401527965\n",
      "Y sigmoid:  0.12665659402683724\n"
     ]
    },
    {
     "data": {
      "text/plain": [
       "0.12665659402683724"
      ]
     },
     "execution_count": 88,
     "metadata": {},
     "output_type": "execute_result"
    }
   ],
   "source": [
    "XOR_perceptron(1,1)"
   ]
  },
  {
   "cell_type": "code",
   "execution_count": null,
   "metadata": {},
   "outputs": [],
   "source": []
  }
 ],
 "metadata": {
  "kernelspec": {
   "display_name": "Python 3",
   "language": "python",
   "name": "python3"
  },
  "language_info": {
   "codemirror_mode": {
    "name": "ipython",
    "version": 3
   },
   "file_extension": ".py",
   "mimetype": "text/x-python",
   "name": "python",
   "nbconvert_exporter": "python",
   "pygments_lexer": "ipython3",
   "version": "3.7.3"
  }
 },
 "nbformat": 4,
 "nbformat_minor": 2
}
