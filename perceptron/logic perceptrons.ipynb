{
 "cells": [
  {
   "cell_type": "code",
   "execution_count": 1,
   "metadata": {},
   "outputs": [],
   "source": [
    "import numpy as np"
   ]
  },
  {
   "cell_type": "code",
   "execution_count": 2,
   "metadata": {},
   "outputs": [],
   "source": [
    "def activation(value):\n",
    "    \n",
    "    val = int(np.where(value>0,1,0))\n",
    "    return val"
   ]
  },
  {
   "cell_type": "code",
   "execution_count": 3,
   "metadata": {},
   "outputs": [
    {
     "data": {
      "text/plain": [
       "1"
      ]
     },
     "execution_count": 3,
     "metadata": {},
     "output_type": "execute_result"
    }
   ],
   "source": [
    "activation(4)"
   ]
  },
  {
   "cell_type": "code",
   "execution_count": 4,
   "metadata": {},
   "outputs": [],
   "source": [
    "def neural_network(inputs,weights):\n",
    "    return int(np.matmul(inputs,weights))\n",
    "    "
   ]
  },
  {
   "cell_type": "markdown",
   "metadata": {},
   "source": [
    "## AND"
   ]
  },
  {
   "cell_type": "code",
   "execution_count": 5,
   "metadata": {},
   "outputs": [
    {
     "name": "stdout",
     "output_type": "stream",
     "text": [
      "0 AND 0 = 0\n",
      "1 AND 0 = 0\n",
      "0 AND 1 = 0\n",
      "1 AND 1 = 1\n"
     ]
    }
   ],
   "source": [
    "W = np.array([[1],[1],[-1]])\n",
    "x1 = 0\n",
    "x2 = 0\n",
    "prediction = activation(neural_network(np.array([x1,x2,1]),W))\n",
    "print(str(x1)+ \" AND \" +str(x2) + \" = \"+str(prediction))\n",
    "\n",
    "x1 = 1\n",
    "x2 = 0\n",
    "prediction = activation(neural_network(np.array([x1,x2,1]),W))\n",
    "print(str(x1)+ \" AND \" +str(x2) + \" = \"+str(prediction))\n",
    "\n",
    "x1 = 0\n",
    "x2 = 1\n",
    "prediction = activation(neural_network(np.array([x1,x2,1]),W))\n",
    "print(str(x1)+ \" AND \" +str(x2) + \" = \"+str(prediction))\n",
    "\n",
    "x1 = 1\n",
    "x2 = 1\n",
    "prediction = activation(neural_network(np.array([x1,x2,1]),W))\n",
    "print(str(x1)+ \" AND \" +str(x2) + \" = \"+str(prediction))\n"
   ]
  },
  {
   "cell_type": "markdown",
   "metadata": {},
   "source": [
    "## OR"
   ]
  },
  {
   "cell_type": "code",
   "execution_count": 6,
   "metadata": {},
   "outputs": [
    {
     "name": "stdout",
     "output_type": "stream",
     "text": [
      "1 OR 1 = 1\n",
      "1 OR 0 = 1\n",
      "0 OR 1 = 1\n",
      "0 OR 0 = 0\n"
     ]
    }
   ],
   "source": [
    "W = np.array([[1],[1],[-1]])\n",
    "x1 = 1\n",
    "x2 = 1\n",
    "prediction = activation(neural_network(np.array([x1,x2,0]),W))\n",
    "prediction = activation(neural_network(np.array([x1,x2,0]),W))\n",
    "print(str(x1)+ \" OR \" +str(x2) + \" = \"+str(prediction))\n",
    "\n",
    "x1 = 1\n",
    "x2 = 0\n",
    "prediction = activation(neural_network(np.array([x1,x2,0]),W))\n",
    "prediction = activation(neural_network(np.array([x1,x2,0]),W))\n",
    "print(str(x1)+ \" OR \" +str(x2) + \" = \"+str(prediction))\n",
    "\n",
    "x1 = 0\n",
    "x2 = 1\n",
    "prediction = activation(neural_network(np.array([x1,x2,0]),W))\n",
    "prediction = activation(neural_network(np.array([x1,x2,0]),W))\n",
    "print(str(x1)+ \" OR \" +str(x2) + \" = \"+str(prediction))\n",
    "x1 = 0\n",
    "x2 = 0\n",
    "prediction = activation(neural_network(np.array([x1,x2,0]),W))\n",
    "prediction = activation(neural_network(np.array([x1,x2,0]),W))\n",
    "print(str(x1)+ \" OR \" +str(x2) + \" = \"+str(prediction))"
   ]
  },
  {
   "cell_type": "markdown",
   "metadata": {},
   "source": [
    "## NOT"
   ]
  },
  {
   "cell_type": "code",
   "execution_count": 7,
   "metadata": {},
   "outputs": [
    {
     "name": "stdout",
     "output_type": "stream",
     "text": [
      "NOT 1 = 0\n",
      "NOT -1 = 1\n"
     ]
    }
   ],
   "source": [
    "W = np.array([[-1],[0]])\n",
    "x1 = 1\n",
    "prediction = activation(neural_network(np.array([x1,0.5]),W))\n",
    "print(\"NOT \"+str(x1)+ \" = \" + str(prediction))\n",
    "\n",
    "x1 = -1\n",
    "prediction = activation(neural_network(np.array([x1,0.5]),W))\n",
    "print(\"NOT \"+str(x1)+ \" = \" + str(prediction))"
   ]
  },
  {
   "cell_type": "markdown",
   "metadata": {},
   "source": [
    "## XOR "
   ]
  },
  {
   "cell_type": "code",
   "execution_count": 23,
   "metadata": {},
   "outputs": [
    {
     "name": "stdout",
     "output_type": "stream",
     "text": [
      "0 XOR 1 = 1\n"
     ]
    }
   ],
   "source": [
    "x1 = 0\n",
    "x2 = 1\n",
    "W = np.array([[1],[1],[-1]])\n",
    "\n",
    "\n",
    "####first and\n",
    "andd = activation(neural_network(np.array([x1,x2,1]),W))\n",
    "\n",
    "\n",
    "#### not composed by and\n",
    "\n",
    "W = np.array([[-1],[1]])\n",
    "nott = activation(neural_network(np.array([andd,1]),W))\n",
    "\n",
    "\n",
    "\n",
    "\n",
    "\n",
    "\n",
    "###OR\n",
    "W = np.array([[1],[1],[-1]])\n",
    "orr = activation(neural_network(np.array([x1,x2,0]),W))\n",
    "\n",
    "\n",
    "###second and \n",
    "W = np.array([[1],[1],[-1]])\n",
    "sandd = activation(neural_network(np.array([orr,nott,1]),W))\n",
    "\n",
    "\n",
    "\n",
    "print(str(x1)+ \" XOR \" +str(x2) + \" = \"+str(sandd))\n",
    "\n",
    "\n"
   ]
  },
  {
   "cell_type": "code",
   "execution_count": null,
   "metadata": {},
   "outputs": [],
   "source": []
  }
 ],
 "metadata": {
  "kernelspec": {
   "display_name": "Python 3",
   "language": "python",
   "name": "python3"
  },
  "language_info": {
   "codemirror_mode": {
    "name": "ipython",
    "version": 3
   },
   "file_extension": ".py",
   "mimetype": "text/x-python",
   "name": "python",
   "nbconvert_exporter": "python",
   "pygments_lexer": "ipython3",
   "version": "3.7.3"
  }
 },
 "nbformat": 4,
 "nbformat_minor": 2
}
