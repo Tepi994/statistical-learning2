{
 "cells": [
  {
   "cell_type": "code",
   "execution_count": 1,
   "metadata": {},
   "outputs": [],
   "source": [
    "import scipy.stats\n",
    "import numpy as np\n",
    "import pandas as pd\n",
    "import matplotlib.pyplot as plt"
   ]
  },
  {
   "cell_type": "markdown",
   "metadata": {},
   "source": [
    "# XOR\n",
    "as inputs we will have a 2xn vector."
   ]
  },
  {
   "cell_type": "code",
   "execution_count": 36,
   "metadata": {},
   "outputs": [],
   "source": [
    "x_train = pd.DataFrame({\n",
    "    'x_1':(0,0,1,1),\n",
    "    'x_2':(0,1,0,1),\n",
    "})\n",
    "\n",
    "y_train = pd.DataFrame({\n",
    "    'y_t':(0,1,1,0)\n",
    "})\n"
   ]
  },
  {
   "cell_type": "code",
   "execution_count": 37,
   "metadata": {},
   "outputs": [
    {
     "data": {
      "text/html": [
       "<div>\n",
       "<style scoped>\n",
       "    .dataframe tbody tr th:only-of-type {\n",
       "        vertical-align: middle;\n",
       "    }\n",
       "\n",
       "    .dataframe tbody tr th {\n",
       "        vertical-align: top;\n",
       "    }\n",
       "\n",
       "    .dataframe thead th {\n",
       "        text-align: right;\n",
       "    }\n",
       "</style>\n",
       "<table border=\"1\" class=\"dataframe\">\n",
       "  <thead>\n",
       "    <tr style=\"text-align: right;\">\n",
       "      <th></th>\n",
       "      <th>x_1</th>\n",
       "      <th>x_2</th>\n",
       "      <th>y_t</th>\n",
       "    </tr>\n",
       "  </thead>\n",
       "  <tbody>\n",
       "    <tr>\n",
       "      <th>0</th>\n",
       "      <td>0</td>\n",
       "      <td>0</td>\n",
       "      <td>0</td>\n",
       "    </tr>\n",
       "    <tr>\n",
       "      <th>1</th>\n",
       "      <td>0</td>\n",
       "      <td>1</td>\n",
       "      <td>1</td>\n",
       "    </tr>\n",
       "    <tr>\n",
       "      <th>2</th>\n",
       "      <td>1</td>\n",
       "      <td>0</td>\n",
       "      <td>1</td>\n",
       "    </tr>\n",
       "    <tr>\n",
       "      <th>3</th>\n",
       "      <td>1</td>\n",
       "      <td>1</td>\n",
       "      <td>0</td>\n",
       "    </tr>\n",
       "  </tbody>\n",
       "</table>\n",
       "</div>"
      ],
      "text/plain": [
       "   x_1  x_2  y_t\n",
       "0    0    0    0\n",
       "1    0    1    1\n",
       "2    1    0    1\n",
       "3    1    1    0"
      ]
     },
     "execution_count": 37,
     "metadata": {},
     "output_type": "execute_result"
    }
   ],
   "source": [
    "pd.concat([x_train,y_train], axis = 1)"
   ]
  },
  {
   "cell_type": "markdown",
   "metadata": {},
   "source": [
    "# ReLu and Identity activation functions"
   ]
  },
  {
   "cell_type": "code",
   "execution_count": 38,
   "metadata": {},
   "outputs": [],
   "source": [
    "def relu(x):\n",
    "    zero = np.zeros_like(x)\n",
    "    return np.maximum([zero],[x])\n",
    "    "
   ]
  },
  {
   "cell_type": "code",
   "execution_count": 39,
   "metadata": {},
   "outputs": [
    {
     "data": {
      "text/plain": [
       "array([[0, 2, 3]])"
      ]
     },
     "execution_count": 39,
     "metadata": {},
     "output_type": "execute_result"
    }
   ],
   "source": [
    "relu(np.array([-1,2,3]))"
   ]
  },
  {
   "cell_type": "code",
   "execution_count": 40,
   "metadata": {},
   "outputs": [],
   "source": [
    "def identity(x):\n",
    "    return x"
   ]
  },
  {
   "cell_type": "code",
   "execution_count": 41,
   "metadata": {},
   "outputs": [],
   "source": [
    "def forward_propagation(x,w,activation):\n",
    "    return activation(np.matmul(np.array(x),w))   "
   ]
  },
  {
   "cell_type": "code",
   "execution_count": 42,
   "metadata": {},
   "outputs": [
    {
     "ename": "ValueError",
     "evalue": "matmul: Input operand 1 has a mismatch in its core dimension 0, with gufunc signature (n?,k),(k,m?)->(n?,m?) (size 12 is different from 2)",
     "output_type": "error",
     "traceback": [
      "\u001b[1;31m---------------------------------------------------------------------------\u001b[0m",
      "\u001b[1;31mValueError\u001b[0m                                Traceback (most recent call last)",
      "\u001b[1;32m<ipython-input-42-f8f95f5b8c71>\u001b[0m in \u001b[0;36m<module>\u001b[1;34m\u001b[0m\n\u001b[1;32m----> 1\u001b[1;33m \u001b[0mforward_propagation\u001b[0m\u001b[1;33m(\u001b[0m\u001b[0mx_train\u001b[0m\u001b[1;33m,\u001b[0m\u001b[0mw_1\u001b[0m\u001b[1;33m,\u001b[0m\u001b[0midentity\u001b[0m\u001b[1;33m)\u001b[0m\u001b[1;33m[\u001b[0m\u001b[1;36m0\u001b[0m\u001b[1;33m]\u001b[0m\u001b[1;33m\u001b[0m\u001b[1;33m\u001b[0m\u001b[0m\n\u001b[0m",
      "\u001b[1;32m<ipython-input-41-444b9d0c3a60>\u001b[0m in \u001b[0;36mforward_propagation\u001b[1;34m(x, w, activation)\u001b[0m\n\u001b[0;32m      1\u001b[0m \u001b[1;32mdef\u001b[0m \u001b[0mforward_propagation\u001b[0m\u001b[1;33m(\u001b[0m\u001b[0mx\u001b[0m\u001b[1;33m,\u001b[0m\u001b[0mw\u001b[0m\u001b[1;33m,\u001b[0m\u001b[0mactivation\u001b[0m\u001b[1;33m)\u001b[0m\u001b[1;33m:\u001b[0m\u001b[1;33m\u001b[0m\u001b[1;33m\u001b[0m\u001b[0m\n\u001b[1;32m----> 2\u001b[1;33m     \u001b[1;32mreturn\u001b[0m \u001b[0mactivation\u001b[0m\u001b[1;33m(\u001b[0m\u001b[0mnp\u001b[0m\u001b[1;33m.\u001b[0m\u001b[0mmatmul\u001b[0m\u001b[1;33m(\u001b[0m\u001b[0mnp\u001b[0m\u001b[1;33m.\u001b[0m\u001b[0marray\u001b[0m\u001b[1;33m(\u001b[0m\u001b[0mx\u001b[0m\u001b[1;33m)\u001b[0m\u001b[1;33m,\u001b[0m\u001b[0mw\u001b[0m\u001b[1;33m)\u001b[0m\u001b[1;33m)\u001b[0m\u001b[1;33m\u001b[0m\u001b[1;33m\u001b[0m\u001b[0m\n\u001b[0m",
      "\u001b[1;31mValueError\u001b[0m: matmul: Input operand 1 has a mismatch in its core dimension 0, with gufunc signature (n?,k),(k,m?)->(n?,m?) (size 12 is different from 2)"
     ]
    }
   ],
   "source": [
    "forward_propagation(x_train,w_1,identity)[0]"
   ]
  },
  {
   "cell_type": "code",
   "execution_count": 43,
   "metadata": {},
   "outputs": [],
   "source": [
    "bias = pd.Series(np.ones_like(x_train.iloc[:,0]), name = 'bias')\n",
    "x_train = pd.concat([x_train,bias],axis=1)"
   ]
  },
  {
   "cell_type": "code",
   "execution_count": 44,
   "metadata": {},
   "outputs": [
    {
     "data": {
      "text/plain": [
       "array([2, 2, 2, 2, 2])"
      ]
     },
     "execution_count": 44,
     "metadata": {},
     "output_type": "execute_result"
    }
   ],
   "source": [
    "identity(np.array([2,2,2,2,2]))"
   ]
  },
  {
   "cell_type": "markdown",
   "metadata": {},
   "source": [
    "# Forward propagation implementation "
   ]
  },
  {
   "cell_type": "code",
   "execution_count": 56,
   "metadata": {},
   "outputs": [],
   "source": [
    "##### Designing the neural net\n",
    "## This neural net will have two hidden layers, each with 2 or 3 neurons.\n",
    "### neurons\n",
    "\n",
    "#bias = pd.Series(np.ones_like(x_train.iloc[:,0]), name = 'bias')\n",
    "#x_train = pd.concat([x_train,bias],axis=1)\n",
    "\n",
    "j = np.array([2,2,1])\n",
    "\n",
    "### first hidden layer\n",
    "inputs = x_train.shape[1] ##inputs are the variables + bias\n",
    "w_1 = np.random.normal(0,1,size = (inputs,j[0]))\n",
    "activation_1 = forward_propagation(x_train,w_1,relu)\n",
    "n_1 = activation_1.shape[1]\n",
    "activation_1_ones = np.ones((n_1,1))\n",
    "activation_1 = np.hstack((activation_1[0],activation_1_ones))\n",
    "\n",
    "##### second hidden layer\n",
    "inputs_2 = activation_1.shape[1]\n",
    "w_2 = np.random.normal(0,1,size = (inputs_2,j[1]))\n",
    "activation_2 = forward_propagation(activation_1,w_2,relu)\n",
    "n_2 = activation_2.shape[1]\n",
    "activation_2_ones = np.ones((n_2,1))\n",
    "activation_2 = np.hstack((activation_2[0],activation_2_ones))\n",
    "\n",
    "####output layer\n",
    "inputs_3 = activation_2.shape[1]\n",
    "w_3 = np.random.normal(0,1,size = (inputs_3,j[2]))\n",
    "activation_3 = forward_propagation(activation_2,w_3,identity)\n",
    "\n",
    "### error\n",
    "#error = np.array(activation_3 - y_train)"
   ]
  },
  {
   "cell_type": "code",
   "execution_count": 124,
   "metadata": {},
   "outputs": [],
   "source": [
    "##### Designing the neural net\n",
    "## This neural net will have two hidden layers, each with 2 or 3 neurons.\n",
    "### neurons\n",
    "\n",
    "#bias = pd.Series(np.ones_like(x_train.iloc[:,0]), name = 'bias')\n",
    "#x_train = pd.concat([x_train,bias],axis=1)\n",
    "\n",
    "j = np.array([2,2,1])\n",
    "\n",
    "### first hidden layer\n",
    "inputs = x_train.shape[1] ##inputs are the variables + bias\n",
    "w_1 = np.random.normal(0,1,size = (inputs,j[0]))\n",
    "activation_2 = forward_propagation(x_train,w_1,relu)\n",
    "n_2 = activation_2.shape[1]\n",
    "activation_2_ones = np.ones((n_2,1))\n",
    "activation_2 = np.hstack((activation_2[0],activation_2_ones))\n",
    "\n",
    "##### second hidden layer\n",
    "inputs_3 = activation_2.shape[1]\n",
    "w_2 = np.random.normal(0,1,size = (inputs_3,j[1]))\n",
    "activation_3 = forward_propagation(activation_2,w_2,relu)\n",
    "n_3 = activation_3.shape[1]\n",
    "activation_3_ones = np.ones((n_3,1))\n",
    "activation_3 = np.hstack((activation_3[0],activation_3_ones))\n",
    "\n",
    "####output layer\n",
    "inputs_4 = activation_3.shape[1]\n",
    "w_3 = np.random.normal(0,1,size = (inputs_4,j[2]))\n",
    "activation_4 = forward_propagation(activation_3,w_3,identity)\n",
    "\n",
    "### error\n",
    "#error = np.array(activation_3 - y_train)"
   ]
  },
  {
   "cell_type": "code",
   "execution_count": 125,
   "metadata": {},
   "outputs": [
    {
     "name": "stdout",
     "output_type": "stream",
     "text": [
      "error_4: (4, 1)\n",
      "weight derivative shape:  (2, 1)\n",
      "bias derivative shape:  (1, 1)\n"
     ]
    }
   ],
   "source": [
    "### layer 4\n",
    "error_4 = np.array(activation_4 - y_train)\n",
    "print(\"error_4:\", error_4.shape)\n",
    "d_w4 = np.matmul(activation_3[:,0:-1].T,error_4)\n",
    "print(\"weight derivative shape: \", d_w4.shape)\n",
    "d_b4 = np.matmul(activation_3[:,-1:].T,error_4)\n",
    "print(\"bias derivative shape: \", d_b4.shape)\n",
    "\n"
   ]
  },
  {
   "cell_type": "code",
   "execution_count": 162,
   "metadata": {},
   "outputs": [
    {
     "name": "stdout",
     "output_type": "stream",
     "text": [
      "error_3:  (4, 2)\n",
      "activation_3:  (4, 3)\n",
      "w_3:  (3, 1)\n",
      "d_w3:  (2, 2)\n",
      "d_b3:  (1, 2)\n"
     ]
    }
   ],
   "source": [
    "#### layer 3\n",
    "error_3 = np.matmul(error_4,w_3[0:-1].T)\n",
    "print(\"error_3: \",error_3.shape)\n",
    "print(\"activation_3: \", activation_3.shape)\n",
    "print(\"w_3: \", w_3.shape)\n",
    "\n",
    "d_w3 = np.matmul(activation_2[:,0:-1].T,error_3)\n",
    "d_b3 = np.matmul(activation_2[:,-1:].T,error_3)\n",
    "print(\"d_w3: \",d_w3.shape)\n",
    "print(\"d_b3: \",d_b3.shape)\n"
   ]
  },
  {
   "cell_type": "code",
   "execution_count": 163,
   "metadata": {},
   "outputs": [
    {
     "name": "stdout",
     "output_type": "stream",
     "text": [
      "error_2:  (4, 2)\n",
      "activation_2:  (4, 3)\n",
      "w_2:  (3, 2)\n",
      "d_w2:  (2, 2)\n",
      "d_b2:  (1, 2)\n"
     ]
    }
   ],
   "source": [
    "### layer 2\n",
    "error_2 = np.matmul(error_3,w_2[0:-1].T)\n",
    "print(\"error_2: \", error_2.shape)\n",
    "print(\"activation_2: \", activation_2.shape)\n",
    "print(\"w_2: \", w_2.shape)\n",
    "\n",
    "d_w2 = np.matmul(activation_1[:,0:-1].T,error_2)\n",
    "d_b2 = np.matmul(activation_1[:,-1:].T,error_2)\n",
    "print(\"d_w2: \",d_w2.shape)\n",
    "print(\"d_b2: \",d_b2.shape)"
   ]
  },
  {
   "cell_type": "code",
   "execution_count": 110,
   "metadata": {},
   "outputs": [
    {
     "data": {
      "text/plain": [
       "(1, 3)"
      ]
     },
     "execution_count": 110,
     "metadata": {},
     "output_type": "execute_result"
    }
   ],
   "source": [
    "#error_2 = np.matmul(error,w_2.T)\n",
    "error.shape\n",
    "w_3.T.shape"
   ]
  },
  {
   "cell_type": "markdown",
   "metadata": {},
   "source": [
    "# Backward Propagation Implementation "
   ]
  },
  {
   "cell_type": "code",
   "execution_count": 16,
   "metadata": {},
   "outputs": [
    {
     "data": {
      "text/plain": [
       "(4, 1)"
      ]
     },
     "execution_count": 16,
     "metadata": {},
     "output_type": "execute_result"
    }
   ],
   "source": [
    "activation_3.shape"
   ]
  },
  {
   "cell_type": "code",
   "execution_count": 101,
   "metadata": {},
   "outputs": [
    {
     "data": {
      "text/plain": [
       "(3, 2)"
      ]
     },
     "execution_count": 101,
     "metadata": {},
     "output_type": "execute_result"
    }
   ],
   "source": [
    "w_2.shape"
   ]
  },
  {
   "cell_type": "code",
   "execution_count": null,
   "metadata": {},
   "outputs": [],
   "source": []
  }
 ],
 "metadata": {
  "kernelspec": {
   "display_name": "Python 3",
   "language": "python",
   "name": "python3"
  },
  "language_info": {
   "codemirror_mode": {
    "name": "ipython",
    "version": 3
   },
   "file_extension": ".py",
   "mimetype": "text/x-python",
   "name": "python",
   "nbconvert_exporter": "python",
   "pygments_lexer": "ipython3",
   "version": "3.7.3"
  }
 },
 "nbformat": 4,
 "nbformat_minor": 2
}
