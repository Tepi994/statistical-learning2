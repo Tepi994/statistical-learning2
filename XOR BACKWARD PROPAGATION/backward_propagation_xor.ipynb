{
 "cells": [
  {
   "cell_type": "code",
   "execution_count": 2,
   "metadata": {},
   "outputs": [],
   "source": [
    "import scipy.stats\n",
    "import numpy as np\n",
    "import pandas as pd\n",
    "import matplotlib.pyplot as plt"
   ]
  },
  {
   "cell_type": "markdown",
   "metadata": {},
   "source": [
    "# XOR\n",
    "as inputs we will have a 2xn vector."
   ]
  },
  {
   "cell_type": "code",
   "execution_count": 3,
   "metadata": {},
   "outputs": [
    {
     "data": {
      "text/html": [
       "<div>\n",
       "<style scoped>\n",
       "    .dataframe tbody tr th:only-of-type {\n",
       "        vertical-align: middle;\n",
       "    }\n",
       "\n",
       "    .dataframe tbody tr th {\n",
       "        vertical-align: top;\n",
       "    }\n",
       "\n",
       "    .dataframe thead th {\n",
       "        text-align: right;\n",
       "    }\n",
       "</style>\n",
       "<table border=\"1\" class=\"dataframe\">\n",
       "  <thead>\n",
       "    <tr style=\"text-align: right;\">\n",
       "      <th></th>\n",
       "      <th>x_1</th>\n",
       "      <th>x_2</th>\n",
       "      <th>y_t</th>\n",
       "    </tr>\n",
       "  </thead>\n",
       "  <tbody>\n",
       "    <tr>\n",
       "      <th>0</th>\n",
       "      <td>0</td>\n",
       "      <td>0</td>\n",
       "      <td>0</td>\n",
       "    </tr>\n",
       "    <tr>\n",
       "      <th>1</th>\n",
       "      <td>0</td>\n",
       "      <td>1</td>\n",
       "      <td>1</td>\n",
       "    </tr>\n",
       "    <tr>\n",
       "      <th>2</th>\n",
       "      <td>1</td>\n",
       "      <td>0</td>\n",
       "      <td>1</td>\n",
       "    </tr>\n",
       "    <tr>\n",
       "      <th>3</th>\n",
       "      <td>1</td>\n",
       "      <td>1</td>\n",
       "      <td>0</td>\n",
       "    </tr>\n",
       "  </tbody>\n",
       "</table>\n",
       "</div>"
      ],
      "text/plain": [
       "   x_1  x_2  y_t\n",
       "0    0    0    0\n",
       "1    0    1    1\n",
       "2    1    0    1\n",
       "3    1    1    0"
      ]
     },
     "execution_count": 3,
     "metadata": {},
     "output_type": "execute_result"
    }
   ],
   "source": [
    "x_train = pd.DataFrame({\n",
    "    'x_1':(0,0,1,1),\n",
    "    'x_2':(0,1,0,1),\n",
    "})\n",
    "\n",
    "y_train = pd.DataFrame({\n",
    "    'y_t':(0,1,1,0)\n",
    "})"
   ]
  },
  {
   "cell_type": "code",
   "execution_count": 4,
   "metadata": {},
   "outputs": [],
   "source": [
    "bias = pd.Series(np.ones_like(x_train.iloc[:,0]), name = 'bias')\n",
    "x_train = pd.concat([x_train,bias],axis=1)"
   ]
  },
  {
   "cell_type": "code",
   "execution_count": 5,
   "metadata": {},
   "outputs": [
    {
     "data": {
      "text/html": [
       "<div>\n",
       "<style scoped>\n",
       "    .dataframe tbody tr th:only-of-type {\n",
       "        vertical-align: middle;\n",
       "    }\n",
       "\n",
       "    .dataframe tbody tr th {\n",
       "        vertical-align: top;\n",
       "    }\n",
       "\n",
       "    .dataframe thead th {\n",
       "        text-align: right;\n",
       "    }\n",
       "</style>\n",
       "<table border=\"1\" class=\"dataframe\">\n",
       "  <thead>\n",
       "    <tr style=\"text-align: right;\">\n",
       "      <th></th>\n",
       "      <th>x_1</th>\n",
       "      <th>x_2</th>\n",
       "      <th>bias</th>\n",
       "    </tr>\n",
       "  </thead>\n",
       "  <tbody>\n",
       "    <tr>\n",
       "      <th>0</th>\n",
       "      <td>0</td>\n",
       "      <td>0</td>\n",
       "      <td>1</td>\n",
       "    </tr>\n",
       "    <tr>\n",
       "      <th>1</th>\n",
       "      <td>0</td>\n",
       "      <td>1</td>\n",
       "      <td>1</td>\n",
       "    </tr>\n",
       "    <tr>\n",
       "      <th>2</th>\n",
       "      <td>1</td>\n",
       "      <td>0</td>\n",
       "      <td>1</td>\n",
       "    </tr>\n",
       "    <tr>\n",
       "      <th>3</th>\n",
       "      <td>1</td>\n",
       "      <td>1</td>\n",
       "      <td>1</td>\n",
       "    </tr>\n",
       "  </tbody>\n",
       "</table>\n",
       "</div>"
      ],
      "text/plain": [
       "   x_1  x_2  bias\n",
       "0    0    0     1\n",
       "1    0    1     1\n",
       "2    1    0     1\n",
       "3    1    1     1"
      ]
     },
     "execution_count": 5,
     "metadata": {},
     "output_type": "execute_result"
    }
   ],
   "source": [
    "x_train"
   ]
  },
  {
   "cell_type": "markdown",
   "metadata": {},
   "source": [
    "# ReLu and Identity activation functions"
   ]
  },
  {
   "cell_type": "code",
   "execution_count": 6,
   "metadata": {},
   "outputs": [],
   "source": [
    "def relu(x):\n",
    "    zero = np.zeros_like(x)\n",
    "    return np.maximum([zero],[x])\n",
    "    "
   ]
  },
  {
   "cell_type": "code",
   "execution_count": 7,
   "metadata": {},
   "outputs": [],
   "source": [
    "def dx_relu(x):\n",
    "    return(np.where(x>=0,1,0))"
   ]
  },
  {
   "cell_type": "code",
   "execution_count": 8,
   "metadata": {},
   "outputs": [],
   "source": [
    "def identity(x):\n",
    "    return x"
   ]
  },
  {
   "cell_type": "code",
   "execution_count": 9,
   "metadata": {},
   "outputs": [],
   "source": [
    "def forward_propagation(x,w,activation):\n",
    "    return activation(np.matmul(np.array(x),w))   "
   ]
  },
  {
   "cell_type": "code",
   "execution_count": 10,
   "metadata": {},
   "outputs": [
    {
     "data": {
      "text/html": [
       "<div>\n",
       "<style scoped>\n",
       "    .dataframe tbody tr th:only-of-type {\n",
       "        vertical-align: middle;\n",
       "    }\n",
       "\n",
       "    .dataframe tbody tr th {\n",
       "        vertical-align: top;\n",
       "    }\n",
       "\n",
       "    .dataframe thead th {\n",
       "        text-align: right;\n",
       "    }\n",
       "</style>\n",
       "<table border=\"1\" class=\"dataframe\">\n",
       "  <thead>\n",
       "    <tr style=\"text-align: right;\">\n",
       "      <th></th>\n",
       "      <th>x_1</th>\n",
       "      <th>x_2</th>\n",
       "      <th>bias</th>\n",
       "    </tr>\n",
       "  </thead>\n",
       "  <tbody>\n",
       "    <tr>\n",
       "      <th>0</th>\n",
       "      <td>0</td>\n",
       "      <td>0</td>\n",
       "      <td>1</td>\n",
       "    </tr>\n",
       "    <tr>\n",
       "      <th>1</th>\n",
       "      <td>0</td>\n",
       "      <td>1</td>\n",
       "      <td>1</td>\n",
       "    </tr>\n",
       "    <tr>\n",
       "      <th>2</th>\n",
       "      <td>1</td>\n",
       "      <td>0</td>\n",
       "      <td>1</td>\n",
       "    </tr>\n",
       "    <tr>\n",
       "      <th>3</th>\n",
       "      <td>1</td>\n",
       "      <td>1</td>\n",
       "      <td>1</td>\n",
       "    </tr>\n",
       "  </tbody>\n",
       "</table>\n",
       "</div>"
      ],
      "text/plain": [
       "   x_1  x_2  bias\n",
       "0    0    0     1\n",
       "1    0    1     1\n",
       "2    1    0     1\n",
       "3    1    1     1"
      ]
     },
     "execution_count": 10,
     "metadata": {},
     "output_type": "execute_result"
    }
   ],
   "source": []
  },
  {
   "cell_type": "markdown",
   "metadata": {},
   "source": [
    "# Forward propagation implementation "
   ]
  },
  {
   "cell_type": "code",
   "execution_count": 18,
   "metadata": {},
   "outputs": [
    {
     "name": "stdout",
     "output_type": "stream",
     "text": [
      "MSE:  0.2899493392433895\n",
      "[[0.5442364 ]\n",
      " [0.5442364 ]\n",
      " [0.48347523]\n",
      " [0.5442364 ]]\n"
     ]
    }
   ],
   "source": [
    "i=0\n",
    "j = np.array([2,2,1])\n",
    "####weights\n",
    "inputs = x_train.shape[1] ##inputs are the variables + bias\n",
    "w_1 = np.random.normal(0,1,size = (inputs,j[0]))\n",
    "w_2 = np.random.normal(0,1,size = (inputs,j[1]))\n",
    "w_3 = np.random.normal(0,1,size = (inputs,j[2]))\n",
    "lr = 0.01\n",
    "activation_1= np.array(x_train)\n",
    "\n",
    "while i < 50:\n",
    "\n",
    "    ###layer 2\n",
    "\n",
    "    activation_2 = forward_propagation(x_train,w_1,relu)\n",
    "    n_2 = activation_2.shape[1]\n",
    "    activation_2_ones = np.ones((n_2,1))\n",
    "    activation_2 = np.hstack((activation_2[0],activation_2_ones))\n",
    "\n",
    "    #####layer 3\n",
    "\n",
    "\n",
    "    activation_3 = forward_propagation(activation_2,w_2,relu)\n",
    "    n_3 = activation_3.shape[1]\n",
    "    activation_3_ones = np.ones((n_3,1))\n",
    "    activation_3 = np.hstack((activation_3[0],activation_3_ones))\n",
    "\n",
    "    ####layer 4\n",
    "    inputs_4 = activation_3.shape[1]\n",
    "    activation_4 = forward_propagation(activation_3,w_3,identity)\n",
    "\n",
    "    \n",
    "    ####BackPropagation implementation \n",
    "\n",
    "    ### layer 4\n",
    "    error_4 = np.array(activation_4 - y_train)\n",
    "    d_w4 = np.matmul(activation_3[:,0:-1].T,error_4)\n",
    "    d_b4 = np.matmul(activation_3[:,-1:].T,error_4)\n",
    "\n",
    "    #### layer 3\n",
    "    error_3 = np.matmul(error_4,w_3[0:-1].T)*dx_relu(activation_3[:,0:-1])\n",
    "    d_w3 = np.matmul(activation_2[:,0:-1].T,error_3)\n",
    "    d_b3 = np.matmul(activation_2[:,-1:].T,error_3)\n",
    "\n",
    "\n",
    "    ### layer 2\n",
    "    error_2 = np.matmul(error_3,w_2[0:-1].T)*dx_relu(activation_2[:,0:-1])\n",
    "    d_w2 = np.matmul(activation_1[:,0:-1].T,error_2)\n",
    "    d_b2 = np.matmul(activation_1[:,-1:].T,error_2)\n",
    "\n",
    "    \n",
    "    ####Updating weights\n",
    "\n",
    "    #####update weights layer 2\n",
    "    w_1[0:-1,] = w_1[0:-1,] -lr*d_w2\n",
    "    w_1[-1:,] =  w_1[-1:,] - lr*d_b2\n",
    "  #  print(w_1)\n",
    "\n",
    "    #####update weights layer 3\n",
    "    w_2[0:-1,] = w_2[0:-1,] -lr*d_w3\n",
    "    w_2[-1:,] =  w_2[-1:,] - lr*d_b3\n",
    "\n",
    "    ####update weights layer 4\n",
    "    w_3[0:-1,] = w_3[0:-1,] -lr*d_w4\n",
    "    w_3[-1:,] =  w_3[-1:,] - lr*d_b4\n",
    "    if i % 100 == 0:\n",
    "        print(\"MSE: \",error_4.mean())\n",
    "    i+=1\n",
    "\n",
    "print(activation_4)\n"
   ]
  },
  {
   "cell_type": "code",
   "execution_count": null,
   "metadata": {},
   "outputs": [],
   "source": [
    "##### Designing the neural net\n",
    "## This neural net will have two hidden layers, each with 2 or 3 neurons.\n",
    "### neurons\n",
    "\n",
    "#bias = pd.Series(np.ones_like(x_train.iloc[:,0]), name = 'bias')\n",
    "#x_train = pd.concat([x_train,bias],axis=1)\n",
    "\n",
    "j = np.array([2,2,1])\n",
    "\n",
    "### first hidden layer\n",
    "inputs = x_train.shape[1] ##inputs are the variables + bias\n",
    "w_1 = np.random.normal(0,1,size = (inputs,j[0]))\n",
    "activation_2 = forward_propagation(x_train,w_1,relu)\n",
    "n_2 = activation_2.shape[1]\n",
    "activation_2_ones = np.ones((n_2,1))\n",
    "activation_2 = np.hstack((activation_2[0],activation_2_ones))\n",
    "\n",
    "##### second hidden layer\n",
    "inputs_3 = activation_2.shape[1]\n",
    "w_2 = np.random.normal(0,1,size = (inputs_3,j[1]))\n",
    "activation_3 = forward_propagation(activation_2,w_2,relu)\n",
    "n_3 = activation_3.shape[1]\n",
    "activation_3_ones = np.ones((n_3,1))\n",
    "activation_3 = np.hstack((activation_3[0],activation_3_ones))\n",
    "\n",
    "####output layer\n",
    "inputs_4 = activation_3.shape[1]\n",
    "w_3 = np.random.normal(0,1,size = (inputs_4,j[2]))\n",
    "activation_4 = forward_propagation(activation_3,w_3,identity)\n",
    "\n",
    "### error\n",
    "#error = np.array(activation_3 - y_train)"
   ]
  },
  {
   "cell_type": "code",
   "execution_count": null,
   "metadata": {},
   "outputs": [],
   "source": [
    "##### Designing the neural net\n",
    "## This neural net will have two hidden layers, each with 2 or 3 neurons.\n",
    "### neurons\n",
    "\n",
    "#bias = pd.Series(np.ones_like(x_train.iloc[:,0]), name = 'bias')\n",
    "#x_train = pd.concat([x_train,bias],axis=1)\n",
    "\n",
    "j = np.array([2,2,1])\n",
    "\n",
    "### first hidden layer / layer 2\n",
    "inputs = x_train.shape[1] ##inputs are the variables + bias\n",
    "w_1 = np.random.normal(0,1,size = (inputs,j[0]))\n",
    "activation_2 = forward_propagation(x_train,w_1,relu)\n",
    "n_2 = activation_2.shape[1]\n",
    "activation_2_ones = np.ones((n_2,1))\n",
    "activation_2 = np.hstack((activation_2[0],activation_2_ones))\n",
    "\n",
    "##### second hidden layer / layer 3\n",
    "inputs_3 = activation_2.shape[1]\n",
    "w_2 = np.random.normal(0,1,size = (inputs_3,j[1]))\n",
    "activation_3 = forward_propagation(activation_2,w_2,relu)\n",
    "n_3 = activation_3.shape[1]\n",
    "activation_3_ones = np.ones((n_3,1))\n",
    "activation_3 = np.hstack((activation_3[0],activation_3_ones))\n",
    "\n",
    "####output layer / layer 4\n",
    "inputs_4 = activation_3.shape[1]\n",
    "w_3 = np.random.normal(0,1,size = (inputs_4,j[2]))\n",
    "activation_4 = forward_propagation(activation_3,w_3,identity)\n",
    "\n",
    "####BackPropagation implementation \n",
    "\n",
    "### layer 4\n",
    "error_4 = np.array(activation_4 - y_train)\n",
    "print(\"error_4:\", error_4.shape)\n",
    "d_w4 = np.matmul(activation_3[:,0:-1].T,error_4)\n",
    "print(\"weight derivative shape: \", d_w4.shape)\n",
    "d_b4 = np.matmul(activation_3[:,-1:].T,error_4)\n",
    "print(\"bias derivative shape: \", d_b4.shape)\n",
    "\n",
    "#### layer 3\n",
    "error_3 = np.matmul(error_4,w_3[0:-1].T)*dx_relu(activation_3[:,0:-1])\n",
    "print(\"error_3: \",error_3.shape)\n",
    "print(\"activation_3: \", activation_3.shape)\n",
    "print(\"w_3: \", w_3.shape)\n",
    "\n",
    "d_w3 = np.matmul(activation_2[:,0:-1].T,error_3)\n",
    "d_b3 = np.matmul(activation_2[:,-1:].T,error_3)\n",
    "print(\"d_w3: \",d_w3.shape)\n",
    "print(\"d_b3: \",d_b3.shape)\n",
    "\n",
    "### layer 2\n",
    "error_2 = np.matmul(error_3,w_2[0:-1].T)*dx_relu(activation_2[:,0:-1])\n",
    "print(\"error_2: \", error_2.shape)\n",
    "print(\"activation_2: \", activation_2.shape)\n",
    "print(\"w_2: \", w_2.shape)\n",
    "\n",
    "d_w2 = np.matmul(activation_1[:,0:-1].T,error_2)\n",
    "d_b2 = np.matmul(activation_1[:,-1:].T,error_2)\n",
    "print(\"d_w2: \",d_w2.shape)\n",
    "print(\"d_b2: \",d_b2.shape)\n",
    "\n"
   ]
  },
  {
   "cell_type": "code",
   "execution_count": null,
   "metadata": {},
   "outputs": [],
   "source": [
    "###### updating weights\n",
    "\n",
    "#####update weights layer 2\n",
    "w_1[0:-1,] = w_1[0:-1,] -d_w2\n",
    "w_1[-1:,] = w_1[-1:,] - d_b2\n",
    "\n",
    "#####update weights layer 3\n",
    "w_2[0:-1,] = w_2[0:-1,] -d_w3\n",
    "w_2[-1:,] = w_2[-1:,] - d_b3\n",
    "\n",
    "####update weights layer 4\n",
    "#####update weights layer 3\n",
    "w_3[0:-1,] = w_3[0:-1,] -d_w4\n",
    "w_3[-1:,] = w_3[-1:,] - d_b4"
   ]
  },
  {
   "cell_type": "code",
   "execution_count": null,
   "metadata": {},
   "outputs": [],
   "source": [
    "#####update weights layer 2\n",
    "w_1[0:-1,] = w_1[0:-1,] -d_w2\n",
    "w_1[-1:,] = w_1[-1:,] - d_b2"
   ]
  },
  {
   "cell_type": "code",
   "execution_count": null,
   "metadata": {},
   "outputs": [],
   "source": [
    "#####update weights layer 3\n",
    "w_2[0:-1,] = w_2[0:-1,] -d_w3\n",
    "w_2[-1:,] = w_2[-1:,] - d_b3"
   ]
  },
  {
   "cell_type": "code",
   "execution_count": null,
   "metadata": {},
   "outputs": [],
   "source": [
    "####update weights layer 4\n",
    "#####update weights layer 3\n",
    "w_3[0:-1,] = w_3[0:-1,] -d_w4\n",
    "w_3[-1:,] = w_3[-1:,] - d_b4"
   ]
  },
  {
   "cell_type": "code",
   "execution_count": null,
   "metadata": {},
   "outputs": [],
   "source": [
    "### layer 4\n",
    "error_4 = np.array(activation_4 - y_train)\n",
    "print(\"error_4:\", error_4.shape)\n",
    "d_w4 = np.matmul(activation_3[:,0:-1].T,error_4)\n",
    "print(\"weight derivative shape: \", d_w4.shape)\n",
    "d_b4 = np.matmul(activation_3[:,-1:].T,error_4)\n",
    "print(\"bias derivative shape: \", d_b4.shape)\n",
    "\n"
   ]
  },
  {
   "cell_type": "code",
   "execution_count": null,
   "metadata": {},
   "outputs": [],
   "source": [
    "#### layer 3\n",
    "error_3 = np.matmul(error_4,w_3[0:-1].T)*dx_relu(activation_3[:,0:-1])\n",
    "print(\"error_3: \",error_3.shape)\n",
    "print(\"activation_3: \", activation_3.shape)\n",
    "print(\"w_3: \", w_3.shape)\n",
    "\n",
    "d_w3 = np.matmul(activation_2[:,0:-1].T,error_3)\n",
    "d_b3 = np.matmul(activation_2[:,-1:].T,error_3)\n",
    "print(\"d_w3: \",d_w3.shape)\n",
    "print(\"d_b3: \",d_b3.shape)"
   ]
  },
  {
   "cell_type": "code",
   "execution_count": null,
   "metadata": {},
   "outputs": [],
   "source": [
    "### layer 2\n",
    "error_2 = np.matmul(error_3,w_2[0:-1].T)*dx_relu(activation_2[:,0:-1])\n",
    "print(\"error_2: \", error_2.shape)\n",
    "print(\"activation_2: \", activation_2.shape)\n",
    "print(\"w_2: \", w_2.shape)\n",
    "\n",
    "d_w2 = np.matmul(activation_1[:,0:-1].T,error_2)\n",
    "d_b2 = np.matmul(activation_1[:,-1:].T,error_2)\n",
    "print(\"d_w2: \",d_w2.shape)\n",
    "print(\"d_b2: \",d_b2.shape)"
   ]
  },
  {
   "cell_type": "markdown",
   "metadata": {},
   "source": [
    "# Backward Propagation Implementation "
   ]
  }
 ],
 "metadata": {
  "kernelspec": {
   "display_name": "Python 3",
   "language": "python",
   "name": "python3"
  },
  "language_info": {
   "codemirror_mode": {
    "name": "ipython",
    "version": 3
   },
   "file_extension": ".py",
   "mimetype": "text/x-python",
   "name": "python",
   "nbconvert_exporter": "python",
   "pygments_lexer": "ipython3",
   "version": "3.7.3"
  }
 },
 "nbformat": 4,
 "nbformat_minor": 2
}
